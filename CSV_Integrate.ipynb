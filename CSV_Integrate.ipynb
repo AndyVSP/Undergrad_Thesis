{
  "nbformat": 4,
  "nbformat_minor": 0,
  "metadata": {
    "colab": {
      "provenance": []
    },
    "kernelspec": {
      "name": "python3",
      "display_name": "Python 3"
    },
    "language_info": {
      "name": "python"
    }
  },
  "cells": [
    {
      "cell_type": "code",
      "source": [
        "import numpy as np\n",
        "import pandas as pd"
      ],
      "metadata": {
        "id": "98gv2-kgl2q5"
      },
      "execution_count": null,
      "outputs": []
    },
    {
      "cell_type": "markdown",
      "source": [
        "Integrate CSV files"
      ],
      "metadata": {
        "id": "PIvKpGG_mNwm"
      }
    },
    {
      "cell_type": "code",
      "source": [
        "path = [\"/content/101_Experiment1_copy_2022-03-09_24h47.07.842.csv\",\n",
        "      \"/content/103_Experiment1_copy_2022-03-09_20h54.16.178.csv\",\n",
        "       \"/content/112_Experiment1_copy_2022-03-14_11h13.29.231.csv\",\n",
        "       \"/content/11_Experiment1_copy_2022-02-09_17h04.45.432.csv\",\n",
        "        \"/content/19_Experiment1_copy_2022-02-10_24h03.46.877.csv\",\n",
        "        \"/content/1_Experiment1_copy_2022-02-07_04h12.45.055.csv\",\n",
        "        \"/content/1_Experiment1_copy_2022-02-07_11h25.31.238.csv\",\n",
        "        \"/content/21_Experiment1_copy_2022-02-10_01h11.43.csv\",\n",
        "        \"/content/22_Experiment1_copy_2022-02-10_08h33.33.977.csv\",\n",
        "        \"/content/24_Experiment1_copy_2022-02-10_17h50.54.csv\",\n",
        "        \"/content/26_Experiment1_copy_2022-02-11_11h28.35.849.csv\",\n",
        "        \"/content/32_Experiment1_copy_2022-02-13_17h31.44.299.csv\",\n",
        "        \"/content/33_Experiment1_copy_2022-02-13_17h39.13.095.csv\",\n",
        "        \"/content/34_Experiment1_copy_2022-02-14_10h32.35.628.csv\",\n",
        "        \"/content/35_Experiment1_copy_2022-02-14_10h38.40.473.csv\",\n",
        "        \"/content/36_Experiment1_copy_2022-02-14_12h33.26.221.csv\",\n",
        "        \"/content/3_Experiment1_copy_2022-02-07_14h58.15.790.csv\",\n",
        "        \"/content/44_Experiment1_copy_2022-02-16_14h45.39.312.csv\",\n",
        "        \"/content/47_Experiment1_copy_2022-02-16_19h37.05.141.csv\",\n",
        "        \"/content/53_Experiment1_copy_2022-02-19_20h56.03.142.csv\",\n",
        "        \"/content/59_Experiment1_copy_2022-02-21_16h28.16.068.csv\",\n",
        "        \"/content/61_Experiment1_copy_2022-02-22_19h53.55.855.csv\",\n",
        "        \"/content/6_Experiment1_copy_2022-02-07_15h44.48.591.csv\",\n",
        "        \"/content/71_Experiment1_copy_2022-02-28_17h02.01.611.csv\",\n",
        "        \"/content/76_Experiment1_copy_2022-03-01_23h55.01.113.csv\",\n",
        "        \"/content/78_Experiment1_copy_2022-03-02_17h48.27.517.csv\",\n",
        "        \"/content/79_Experiment1_copy_2022-03-02_18h06.45.289.csv\",\n",
        "        \"/content/81_Experiment1_copy_2022-03-03_15h27.46.664.csv\",\n",
        "        \"/content/84_Experiment1_copy_2022-03-03_16h24.30.041.csv\",\n",
        "        \"/content/85_Experiment1_copy_2022-03-03_16h28.51.954.csv\",\n",
        "        \"/content/87_Experiment1_copy_2022-03-03_21h18.26.775.csv\",\n",
        "        \"/content/8_Experiment1_copy_2022-02-07_22h54.14.525.csv\",\n",
        "        \"/content/90_Experiment1_copy_2022-03-04_15h44.43.957.csv\",\n",
        "        \"/content/93_Experiment1_copy_2022-03-05_15h46.58.934.csv\",\n",
        "        \"/content/97_Experiment1_copy_2022-03-07_12h50.36.431.csv\",\n",
        "        \"/content/98_Experiment1_copy_2022-03-07_16h11.57.815.csv\",\n",
        "       \"/content/99_Experiment1_copy_2022-03-08_15h58.31.674.csv\"]"
      ],
      "metadata": {
        "id": "ibwlT4-OmJG-"
      },
      "execution_count": null,
      "outputs": []
    },
    {
      "cell_type": "code",
      "source": [
        "order1 = pd.read_csv(path[0], header=0)\n",
        "\n",
        "for x in range(1, len(path)):\n",
        "  temp_df  =  pd.read_csv(path[x], header=0)\n",
        "  order1=pd.concat([order1, temp_df])"
      ],
      "metadata": {
        "id": "LpFzfV8bqPF4"
      },
      "execution_count": null,
      "outputs": []
    },
    {
      "cell_type": "code",
      "source": [
        "order1.shape"
      ],
      "metadata": {
        "id": "Rv53BBtBsuB6"
      },
      "execution_count": null,
      "outputs": []
    },
    {
      "cell_type": "code",
      "source": [
        "test = [\"/content/35_Experiment1_copy_2022-02-14_10h38.40.473.csv\",\n",
        "        \"/content/21_Experiment1_copy_2022-02-10_01h11.43.csv\"]"
      ],
      "metadata": {
        "id": "TbgDnNSovRIQ"
      },
      "execution_count": null,
      "outputs": []
    },
    {
      "cell_type": "code",
      "source": [
        "order1.head"
      ],
      "metadata": {
        "id": "xZ4ZD5iSwR3u"
      },
      "execution_count": null,
      "outputs": []
    },
    {
      "cell_type": "code",
      "source": [
        "order1.to_csv(\"Experiment1_Order1.csv\")"
      ],
      "metadata": {
        "id": "1QuOZnuz5bcc"
      },
      "execution_count": null,
      "outputs": []
    }
  ]
}