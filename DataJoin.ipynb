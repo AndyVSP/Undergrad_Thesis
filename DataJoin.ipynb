{
  "cells": [
    {
      "cell_type": "code",
      "execution_count": null,
      "metadata": {
        "id": "7aNx5xdVZrFS"
      },
      "outputs": [],
      "source": [
        "#Open folder data from google drive\n",
        "\n",
        "from google.colab import drive\n",
        "drive.mount('/gdrive')\n",
        "%cd /gdrive"
      ]
    },
    {
      "cell_type": "code",
      "execution_count": null,
      "metadata": {
        "id": "Ru7PuTacaD1t"
      },
      "outputs": [],
      "source": [
        "%cd /content/drive/My\\ Drive/"
      ]
    },
    {
      "cell_type": "code",
      "execution_count": null,
      "metadata": {
        "colab": {
          "base_uri": "https://localhost:8080/"
        },
        "id": "o4tRKI3LaZ5O",
        "outputId": "bed7d7b6-adf7-4381-db53-0e8d22e3476c"
      },
      "outputs": [
        {
          "output_type": "stream",
          "name": "stdout",
          "text": [
            "/gdrive\n"
          ]
        }
      ],
      "source": [
        "!pwd"
      ]
    },
    {
      "cell_type": "code",
      "execution_count": null,
      "metadata": {
        "id": "wbQ6mG7yabBd"
      },
      "outputs": [],
      "source": [
        "!ls -l"
      ]
    },
    {
      "cell_type": "code",
      "execution_count": null,
      "metadata": {
        "id": "mPEhyobGapZQ"
      },
      "outputs": [],
      "source": [
        "# import required modules\n",
        "import os\n",
        "import glob\n",
        "import csv\n",
        "import pandas as pd\n",
        "from pathlib import Path\n",
        "os.chdir(\"/gdrive/My Drive/data2B_f\")"
      ]
    },
    {
      "cell_type": "code",
      "execution_count": null,
      "metadata": {
        "id": "1hTx-EU3a4eB"
      },
      "outputs": [],
      "source": [
        "#Using glob to match pattern 'csv'\n",
        "\n",
        "extension = 'csv'\n",
        "all_files = [i for i in glob.glob(\"*.{}\".format(extension))]"
      ]
    },
    {
      "cell_type": "code",
      "execution_count": null,
      "metadata": {
        "id": "Se1DXe0obCuj"
      },
      "outputs": [],
      "source": [
        "indir = Path(r\"/gdrive/My Drive/data2B_f\")\n",
        "outfile = Path(r\"/gdrive/My Drive/data2B_f.csv\")\n",
        "\n",
        "\n",
        "def find_header_from_all_files(all_files):\n",
        "    columns = set()\n",
        "    print(\"Looking for column names in\", indir)\n",
        "    for f in all_files:\n",
        "      with open(f, \"r\") as sample_csv:\n",
        "            sample_reader = csv.DictReader(sample_csv)\n",
        "            try:\n",
        "                first_row = next(sample_reader)\n",
        "            except StopIteration:\n",
        "                print(\"File {} doesn't contain any data. Double check this\".format(f))\n",
        "                continue\n",
        "            else:\n",
        "                columns.update(first_row.keys())\n",
        "    return columns\n",
        "\n",
        "\n",
        "columns = find_header_from_all_files(all_files)\n",
        "print(\"The columns are:\", sorted(columns))\n",
        "\n",
        "with outfile.open('w') as outf:\n",
        "    wr = csv.DictWriter(outf, fieldnames=list(columns))\n",
        "    wr.writeheader()\n",
        "    for inpath in all_files:\n",
        "        print(\"Parsing\", inpath)\n",
        "        with open(inpath) as infile:\n",
        "            reader = csv.DictReader(infile)\n",
        "            wr.writerows(reader)\n",
        "print(\"Done, find the output at\", outfile)"
      ]
    },
    {
      "cell_type": "code",
      "execution_count": null,
      "metadata": {
        "id": "HzoLjkRlcgKK"
      },
      "outputs": [],
      "source": [
        "#Counting all csv files\n",
        "\n",
        "print(len(all_files))"
      ]
    },
    {
      "cell_type": "code",
      "execution_count": null,
      "metadata": {
        "id": "djrho5B1c6jl"
      },
      "outputs": [],
      "source": [
        "#Converting to Dataframe\n",
        "df = pd.read_csv(\"/gdrive/My Drive/data2B_f.csv\")"
      ]
    },
    {
      "cell_type": "code",
      "execution_count": null,
      "metadata": {
        "id": "2ZwYabgZdI5Q"
      },
      "outputs": [],
      "source": [
        "df.shape"
      ]
    },
    {
      "cell_type": "code",
      "execution_count": null,
      "metadata": {
        "id": "01SysG-4dR_E"
      },
      "outputs": [],
      "source": [
        "df.head()"
      ]
    },
    {
      "cell_type": "code",
      "execution_count": null,
      "metadata": {
        "id": "ub1Jb2N5da10"
      },
      "outputs": [],
      "source": [
        "df.columns.to_list"
      ]
    },
    {
      "cell_type": "code",
      "execution_count": null,
      "metadata": {
        "id": "oF_4qplSdeN9"
      },
      "outputs": [],
      "source": [
        "print(df.columns.to_list())"
      ]
    },
    {
      "cell_type": "code",
      "execution_count": null,
      "metadata": {
        "id": "tzXWirLNdeLb"
      },
      "outputs": [],
      "source": [
        "df.rename(columns = {'\\ufeffkey_resp.keys':'key_resp.keys'}, inplace = True)"
      ]
    },
    {
      "cell_type": "code",
      "execution_count": null,
      "metadata": {
        "id": "G-zpA4qzeKDy"
      },
      "outputs": [],
      "source": [
        "df.columns"
      ]
    },
    {
      "cell_type": "code",
      "execution_count": null,
      "metadata": {
        "id": "t6TAouSdeUhz"
      },
      "outputs": [],
      "source": [
        "df['key_resp.keys']"
      ]
    },
    {
      "cell_type": "code",
      "execution_count": null,
      "metadata": {
        "id": "1KW1RVBQeZKL"
      },
      "outputs": [],
      "source": [
        "display(df.dtypes)"
      ]
    },
    {
      "cell_type": "code",
      "execution_count": null,
      "metadata": {
        "id": "qZ0Q0da8ehgx"
      },
      "outputs": [],
      "source": [
        "print(\"\\nThis is index of DataFrame:\\n\")\n",
        "for idx in df.index:\n",
        "    print(idx, end = ' ')"
      ]
    },
    {
      "cell_type": "code",
      "execution_count": null,
      "metadata": {
        "id": "PcOpYg9beoQn"
      },
      "outputs": [],
      "source": [
        "print(df.columns.to_list())"
      ]
    },
    {
      "cell_type": "markdown",
      "source": [],
      "metadata": {
        "id": "Af5qh-ySHuJr"
      }
    },
    {
      "cell_type": "code",
      "execution_count": null,
      "metadata": {
        "id": "GhhQd891nwil"
      },
      "outputs": [],
      "source": [
        "#Order data exp 1\n",
        "new_order = [\"key_resp.keys\",\"key_resp.rt\",\"agree_or_disagree.keys\",\"agree_or_disagree.rt\",\"key_resp_2.keys\",\"key_resp_2.rt\",\"gender.response\",\"gender.rt\",\"age.keys\",\"age.rt\",\"age\",\"pressSpace.keys\",\"pressSpace.rt\",\"pressSpace_2.keys\",\"pressSpace_2.rt\",\"textbox_2.text\",\"slider.response\",\"slider.rt\",\"slider_2.response\",\"slider_2.rt\",\"slider_h.response\",\"slider_h.rt\",\"slider_3.response\",\"slider_3.rt\",\"slider_4.response\",\"slider_4.rt\",\"slider_5.response\",\"slider_5.rt\",\"key_p.keys\",\"key_p.rt\",\"slider_39.response\",\"slider_39.rt\",\"slider_21.response\",\"slider_21.rt\",\"slider_22.response\",\"slider_22.rt\",\"slider_26.response\",\"slider_26.rt\",\"slider_23.response\",\"slider_23.rt\",\"slider_24.response\",\"slider_24.rt\",\"slider_25.response\",\"slider_25.rt\",\"key_p_5.keys\",\"key_p_5.rt\",\"slider_27.response\",\"slider_27.rt\",\"slider_28.response\",\"slider_28.rt\",\"slider_32.response\",\"slider_32.rt\",\"slider_29.response\",\"slider_29.rt\",\"slider_30.response\",\"slider_30.rt\",\"slider_31.response\",\"slider_31.rt\",\"key_p_6.keys\",\"key_p_6.rt\",\"slider_46.response\",\"slider_46.rt\",\"slider_40.response\",\"slider_40.rt\",\"slider_41.response\",\"slider_41.rt\",\"slider_42.response\",\"slider_42.rt\",\"slider_43.response\",\"slider_43.rt\",\"slider_44.response\",\"slider_44.rt\",\"slider_45.response\",\"slider_45.rt\",\"key_p_8.keys\",\"key_p_8.rt\",\"trials.thisRepN\",\"trials.thisTrialN\",\"trials.thisN\",\"trials.thisIndex\",\"trials.ran\",\"image_shown\",\"image\",\"Condition\",\"ActorGender\",\"Actor\",\"Context\",\"participant\",\"id\",\"date\",\"expName\",\"psychopyVersion\",\"OS\",\"frameRate\"]\n"
      ]
    },
    {
      "cell_type": "code",
      "execution_count": 1,
      "metadata": {
        "id": "b7zfDZN6-7aN"
      },
      "outputs": [],
      "source": [
        "#Order data exp 2\n",
        "new_order = [\"participant\",\"key_resp.keys\",\"key_resp.rt\",\"key_resp_4.keys\",\"key_resp_4.rt\",\"agree_or_disagree.keys\",\"agree_or_disagree.rt\",\"key_resp_2.keys\",\"key_resp_2.rt\",\"gender.response\",\"gender.rt\",\"age.keys\",\"age.rt\",\"age\",\"key_resp_5.keys\",\"key_resp_5.rt\",\"pressSpace.keys\",\"pressSpace.rt\",\"key_resp_3.keys\",\"key_resp_3.rt\",\"key_resp_6.keys\",\"key_resp_6.rt\",\"key_resp_7.keys\",\"key_resp_7.rt\",\"slider_6.response\",\"slider_6.rt\",\"slider_7.response\",\"slider_7.rt\",\"slider_8.response\",\"slider_8.rt\",\"slider_10.response\",\"slider_10.rt\",\"slider_9.response\",\"slider_9.rt\",\"slider_50.response\",\"slider_50.rt\",\"key_p_2.keys\",\"key_p_2.rt\",\"slider_72.response\",\"slider_72.rt\",\"slider_73.response\",\"slider_73.rt\",\"slider_74.response\",\"slider_74.rt\",\"slider_75.response\",\"slider_75.rt\",\"slider_76.response\",\"slider_76.rt\",\"slider_77.response\",\"slider_77.rt\",\"key_p_15.keys\", \"key_p_15.rt\", \"slider_11.response\",\"slider_11.rt\",\"slider_12.response\",\"slider_12.rt\",\"slider_13.response\",\"slider_13.rt\",\"slider_14.response\",\"slider_14.rt\",\"slider_15.response\",\"slider_15.rt\",\"slider_61.response\",\"slider_61.rt\",\"key_p_3.keys\",\"key_p_3.rt\",\"slider_16.response\",\"slider_16.rt\",\"slider_17.response\",\"slider_17.rt\",\"slider_18.response\",\"slider_18.rt\",\"slider_19.response\",\"slider_19.rt\",\"slider_20.response\",\"slider_20.rt\",\"slider_62.response\",\"slider_62.rt\",\"key_p_4.keys\",\"key_p_4.rt\", \"slider_33.response\",\"slider_33.rt\",\"slider_34.response\",\"slider_34.rt\",\"slider_35.response\",\"slider_35.rt\",\"slider_36.response\",\"slider_36.rt\",\"slider_37.response\",\"slider_37.rt\",\"slider_63.response\",\"slider_63.rt\",\"key_p_7.keys\",\"key_p_7.rt\", \"slider_78.response\",\"slider_78.rt\",\"slider_79.response\",\"slider_79.rt\",\"slider_80.response\",\"slider_80.rt\",\"slider_81.response\",\"slider_81.rt\",\"slider_82.response\",\"slider_82.rt\",\"slider_83.response\",\"slider_83.rt\",\"key_p_16.keys\",\"key_p_16.rt\", \"slider.response\",\"slider.rt\",\"slider_2.response\",\"slider_2.rt\",\"slider_h.response\",\"slider_h.rt\",\"slider_3.response\",\"slider_3.rt\",\"slider_4.response\",\"slider_4.rt\",\"slider_5.response\",\"slider_5.rt\",\"key_p.keys\",\"key_p.rt\",\"slider_39.response\",\"slider_39.rt\",\"slider_21.response\",\"slider_21.rt\",\"slider_22.response\",\"slider_22.rt\",\"slider_26.response\",\"slider_26.rt\",\"slider_23.response\",\"slider_23.rt\",\"slider_24.response\",\"slider_24.rt\",\"slider_25.response\",\"slider_25.rt\",\"key_p_5.keys\",\"key_p_5.rt\",\"slider_27.response\",\"slider_27.rt\",\"slider_28.response\",\"slider_28.rt\",\"slider_32.response\",\"slider_32.rt\",\"slider_29.response\",\"slider_29.rt\",\"slider_30.response\",\"slider_30.rt\",\"slider_31.response\",\"slider_31.rt\",\"key_p_6.keys\", \"key_p_6.rt\", \"slider_46.response\",\"slider_46.rt\",\"slider_40.response\",\"slider_40.rt\",\"slider_41.response\",\"slider_41.rt\",\"slider_42.response\",\"slider_42.rt\",\"slider_43.response\",\"slider_43.rt\",\"slider_44.response\",\"slider_44.rt\",\"slider_45.response\",\"slider_45.rt\",\"key_p_8.keys\",\"key_p_8.rt\", \"slider_38.response\",\"slider_38.rt\",\"slider_47.response\",\"slider_47.rt\",\"slider_48.response\",\"slider_48.rt\",\"slider_49.response\",\"slider_49.rt\",\"key_p_9.keys\",\"key_p_9.rt\",\"slider_51.response\",\"slider_51.rt\",\"slider_52.response\",\"slider_52.rt\",\"slider_53.response\",\"slider_53.rt\",\"slider_54.response\",\"slider_54.rt\",\"key_p_10.keys\", \"key_p_10.rt\",\"slider_57.response\",\"slider_57.rt\",\"key_p_11.keys\",\"key_p_11.rt\",\"slider_60.response\",\"slider_60.rt\",\"key_p_17.keys\", \"key_p_17.rt\", \"slider_59.response\",\"slider_59.rt\",\"key_p_12.keys\", \"key_p_12.rt\", \"slider_84.response\",\"slider_84.rt\",\"key_p_18.keys\", \"key_p_18.rt\", \"slider_55.response\",\"slider_55.rt\",\"slider_58.response\",\"slider_58.rt\",\"slider_64.response\",\"slider_64.rt\",\"slider_65.response\",\"slider_65.rt\",\"slider_70.response\",\"slider_70.rt\",\"key_p_13.keys\",\"key_p_13.rt\",\"slider_66.response\",\"slider_66.rt\",\"slider_67.response\",\"slider_67.rt\",\"slider_68.response\",\"slider_68.rt\",\"slider_69.response\",\"slider_69.rt\",\"slider_71.response\",\"slider_71.rt\",\"key_p_14.keys\", \"key_p_14.rt\", \"trials.thisRepN\",\"trials.thisTrialN\",\"trials.thisN\",\"trials.thisIndex\",\"trials.ran\",\"video\",\"Condition\",\"ActorGender\",\"Speed\",\"id\",\"date\",\"expName\",\"psychopyVersion\",\"OS\",\"frameRate\", \"session\", \"researcher\"]\n"
      ]
    },
    {
      "cell_type": "code",
      "execution_count": null,
      "metadata": {
        "colab": {
          "base_uri": "https://localhost:8080/"
        },
        "id": "yMGW4Uzae5KC",
        "outputId": "0f6c217d-7f09-481b-8e93-813a8ba4b8c9"
      },
      "outputs": [
        {
          "output_type": "execute_result",
          "data": {
            "text/plain": [
              "pandas.core.indexes.range.RangeIndex"
            ]
          },
          "metadata": {},
          "execution_count": 46
        }
      ],
      "source": [
        "type(df.index)"
      ]
    },
    {
      "cell_type": "code",
      "execution_count": null,
      "metadata": {
        "id": "dqqtsfdle9me"
      },
      "outputs": [],
      "source": [
        "df = df[new_order]"
      ]
    },
    {
      "cell_type": "code",
      "execution_count": null,
      "metadata": {
        "id": "icR8ONP_fGAw"
      },
      "outputs": [],
      "source": [
        "df.head()"
      ]
    },
    {
      "cell_type": "code",
      "execution_count": null,
      "metadata": {
        "id": "FJWTUtm5fWeK"
      },
      "outputs": [],
      "source": [
        "df.to_csv (\"/gdrive/My Drive/data2B_f.csv\", index = None)"
      ]
    }
  ],
  "metadata": {
    "colab": {
      "provenance": []
    },
    "kernelspec": {
      "display_name": "Python 3",
      "name": "python3"
    },
    "language_info": {
      "name": "python"
    }
  },
  "nbformat": 4,
  "nbformat_minor": 0
}